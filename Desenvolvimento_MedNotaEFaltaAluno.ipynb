{
  "nbformat": 4,
  "nbformat_minor": 0,
  "metadata": {
    "colab": {
      "name": "Untitled0.ipynb",
      "provenance": [],
      "authorship_tag": "ABX9TyPQw6iouxSOwbYrpL3zYhop"
    },
    "kernelspec": {
      "name": "python3",
      "display_name": "Python 3"
    },
    "language_info": {
      "name": "python"
    }
  },
  "cells": [
    {
      "cell_type": "code",
      "execution_count": 6,
      "metadata": {
        "colab": {
          "base_uri": "https://localhost:8080/"
        },
        "id": "jBhYVq8OfqVV",
        "outputId": "e940df51-6638-4864-a9db-6b217c9ab8ec"
      },
      "outputs": [
        {
          "output_type": "stream",
          "name": "stdout",
          "text": [
            "Insira o nome do aluno: Bruce\n",
            "Qual foi a 1ª nota? 8\n",
            "Qaul foi a 2ª nota? 6\n",
            "Quantas faltas durante o semestre? 2\n",
            "O aluno Bruce foi aprovado\n"
          ]
        }
      ],
      "source": [
        "Nome_Aluno = input(\"Insira o nome do aluno: \")\n",
        "Nota1 = float(input(\"Qual foi a 1ª nota? \"))\n",
        "Nota2 = float(input(\"Qaul foi a 2ª nota? \"))\n",
        "Faltas = int(input(\"Quantas faltas durante o semestre? \"))\n",
        "Med_notas = (Nota1+Nota2)/2\n",
        "\n",
        "if Med_notas < 7:\n",
        "    print(\"O aluno\", Nome_Aluno, \"foi reprovado\")\n",
        "elif Faltas > 3:\n",
        "    print(\"O aluno\", Nome_Aluno, \"foi reprovado\")\n",
        "else:\n",
        "    print(\"O aluno\", Nome_Aluno, \"foi aprovado\")]"
      ]
    }
  ]
}