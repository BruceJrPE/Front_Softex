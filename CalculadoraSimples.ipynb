{
  "nbformat": 4,
  "nbformat_minor": 0,
  "metadata": {
    "colab": {
      "name": "Untitled0.ipynb",
      "provenance": [],
      "authorship_tag": "ABX9TyOL7QmAFN7DTOmCdk+Ug/G/",
      "include_colab_link": true
    },
    "kernelspec": {
      "name": "python3",
      "display_name": "Python 3"
    },
    "language_info": {
      "name": "python"
    }
  },
  "cells": [
    {
      "cell_type": "markdown",
      "metadata": {
        "id": "view-in-github",
        "colab_type": "text"
      },
      "source": [
        "<a href=\"https://colab.research.google.com/github/BruceJrPE/Front_Softex/blob/main/CalculadoraSimples.ipynb\" target=\"_parent\"><img src=\"https://colab.research.google.com/assets/colab-badge.svg\" alt=\"Open In Colab\"/></a>"
      ]
    },
    {
      "cell_type": "code",
      "execution_count": 2,
      "metadata": {
        "colab": {
          "base_uri": "https://localhost:8080/"
        },
        "id": "R5i0EYltOWdM",
        "outputId": "32f0a0bc-879d-450e-eed7-bb505cdc772a"
      },
      "outputs": [
        {
          "output_type": "stream",
          "name": "stdout",
          "text": [
            "Calculadora simples\n",
            "\n",
            "Qual o 1º número? \n",
            "1\n",
            "Qual o 2º número? \n",
            "2\n",
            "Digite o número da operação desejada \n",
            " 1. Soma \n",
            " 2. Subtração \n",
            " 3. Multiplicação \n",
            " 4. Divisão \n",
            "\n",
            "4\n",
            "\n",
            "Resposta =  0.5\n"
          ]
        }
      ],
      "source": [
        "print(\"Calculadora simples\\n\")\n",
        "\n",
        "n1 = float(input(\"Qual o 1º número? \\n\"))\n",
        "n2 = float(input(\"Qual o 2º número? \\n\"))\n",
        "\n",
        "op = int(input(\"Digite o número da operação desejada \\n 1. Soma \\n 2. Subtração \\n 3. Multiplicação \\n 4. Divisão \\n\\n\"))\n",
        "\n",
        "if op == 1:\n",
        "    res = n1+n2\n",
        "    \n",
        "elif op == 2:\n",
        "    res = n1-n2\n",
        "    \n",
        "elif op == 3:\n",
        "    res = n1*n2\n",
        "    \n",
        "elif op == 4:\n",
        "    res = n1/n2\n",
        "    \n",
        "else: \n",
        "    print(\"Operação inválida. Digitar 1, 2, 3 ou 4\")\n",
        "    res = 0\n",
        "\n",
        "print(\"\\nResposta = \", res)\n"
      ]
    }
  ]
}