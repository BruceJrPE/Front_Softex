{
  "nbformat": 4,
  "nbformat_minor": 0,
  "metadata": {
    "colab": {
      "name": "Untitled2.ipynb",
      "provenance": [],
      "authorship_tag": "ABX9TyNrq8E9fNVcFlCBI5LcFOns",
      "include_colab_link": true
    },
    "kernelspec": {
      "name": "python3",
      "display_name": "Python 3"
    },
    "language_info": {
      "name": "python"
    }
  },
  "cells": [
    {
      "cell_type": "markdown",
      "metadata": {
        "id": "view-in-github",
        "colab_type": "text"
      },
      "source": [
        "<a href=\"https://colab.research.google.com/github/BruceJrPE/Front_Softex/blob/main/CalculoDeIdade_Except_While.ipynb\" target=\"_parent\"><img src=\"https://colab.research.google.com/assets/colab-badge.svg\" alt=\"Open In Colab\"/></a>"
      ]
    },
    {
      "cell_type": "code",
      "execution_count": null,
      "metadata": {
        "id": "4MBXLmaK4vMc"
      },
      "outputs": [],
      "source": [
        "rodar = False\n",
        "    \n",
        "while(rodar == False):\n",
        "    \n",
        "    try:\n",
        "        nome = str(input(\"Digite seu nome completo: \"))\n",
        "        nasc = int(input(\"Em que ano você nasceu? \"))\n",
        "        \n",
        "        if nasc >= 1922 and nasc <= 2021:\n",
        "            rodar = True\n",
        "            idade = 2022 - nasc\n",
        "        else:\n",
        "            print(\"Idade fora do intervalo\")\n",
        "        \n",
        "    except:\n",
        "        print(\"Dados inválidos\")\n",
        "        \n",
        "print(nome, \"tem \", idade, \" anos\")"
      ]
    }
  ]
}