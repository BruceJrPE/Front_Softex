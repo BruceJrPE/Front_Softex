{
  "nbformat": 4,
  "nbformat_minor": 0,
  "metadata": {
    "colab": {
      "name": "Bomba_BruceJr.ipynb",
      "provenance": [],
      "authorship_tag": "ABX9TyO/BblspFX7JhPeiOUfGrKW",
      "include_colab_link": true
    },
    "kernelspec": {
      "name": "python3",
      "display_name": "Python 3"
    },
    "language_info": {
      "name": "python"
    }
  },
  "cells": [
    {
      "cell_type": "markdown",
      "metadata": {
        "id": "view-in-github",
        "colab_type": "text"
      },
      "source": [
        "<a href=\"https://colab.research.google.com/github/BruceJrPE/Front_Softex/blob/main/Bomba_BruceJr.ipynb\" target=\"_parent\"><img src=\"https://colab.research.google.com/assets/colab-badge.svg\" alt=\"Open In Colab\"/></a>"
      ]
    },
    {
      "cell_type": "code",
      "execution_count": 11,
      "metadata": {
        "colab": {
          "base_uri": "https://localhost:8080/"
        },
        "id": "jBhYVq8OfqVV",
        "outputId": "76d58ab5-6b15-41ce-ef16-e51eefc01f57"
      },
      "outputs": [
        {
          "output_type": "stream",
          "name": "stdout",
          "text": [
            "Iniciando a contagem...\n",
            "10\n",
            "9\n",
            "8\n",
            "7\n",
            "6\n",
            "5\n",
            "4\n",
            "3\n",
            "2\n",
            "1\n",
            "Bum!!!\n"
          ]
        }
      ],
      "source": [
        "import time\n",
        "\n",
        "tempoInicial = 0\n",
        "tempoFinal = 10\n",
        "\n",
        "print(\"Iniciando a contagem...\")\n",
        "\n",
        "for i in range(tempoFinal, tempoInicial, -1):\n",
        "    print(i)\n",
        "\n",
        "time.sleep(1)\n",
        "\n",
        "print(\"Bum!!!\")"
      ]
    }
  ]
}