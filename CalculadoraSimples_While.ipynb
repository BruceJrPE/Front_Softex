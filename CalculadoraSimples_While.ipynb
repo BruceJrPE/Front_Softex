{
  "nbformat": 4,
  "nbformat_minor": 0,
  "metadata": {
    "colab": {
      "name": "Untitled1.ipynb",
      "provenance": [],
      "authorship_tag": "ABX9TyNiRpPZX8q3rMU6RVCXB4TT",
      "include_colab_link": true
    },
    "kernelspec": {
      "name": "python3",
      "display_name": "Python 3"
    },
    "language_info": {
      "name": "python"
    }
  },
  "cells": [
    {
      "cell_type": "markdown",
      "metadata": {
        "id": "view-in-github",
        "colab_type": "text"
      },
      "source": [
        "<a href=\"https://colab.research.google.com/github/BruceJrPE/Front_Softex/blob/main/CalculadoraSimples_While.ipynb\" target=\"_parent\"><img src=\"https://colab.research.google.com/assets/colab-badge.svg\" alt=\"Open In Colab\"/></a>"
      ]
    },
    {
      "cell_type": "code",
      "execution_count": 5,
      "metadata": {
        "colab": {
          "base_uri": "https://localhost:8080/"
        },
        "id": "QBkzc1QCmeJx",
        "outputId": "fc152a5c-6098-4d67-bd98-e68ea0bf3e60"
      },
      "outputs": [
        {
          "output_type": "stream",
          "name": "stdout",
          "text": [
            "Calculadora simples com while\n",
            "\n",
            "Digite o número da operação desejada \n",
            " 1. Soma \n",
            " 2. Subtração \n",
            " 3. Multiplicação \n",
            " 4. Divisão \n",
            " 0. Sair \n",
            "\n",
            "4\n",
            "\n",
            "Qual o 1º número? \n",
            "1\n",
            "Qual o 2º número? \n",
            "2\n",
            "\n",
            "Resposta =  0.5 \n",
            "\n",
            "Digite o número da operação desejada \n",
            " 1. Soma \n",
            " 2. Subtração \n",
            " 3. Multiplicação \n",
            " 4. Divisão \n",
            " 0. Sair \n",
            "\n",
            "0\n",
            "\n",
            "Qual o 1º número? \n",
            "1\n",
            "Qual o 2º número? \n",
            "2\n",
            "\n",
            "Resposta =  Fim do laço - Você saiu \n",
            "\n"
          ]
        }
      ],
      "source": [
        "print(\"Calculadora simples com while\\n\")\n",
        "\n",
        "op = \"\"\n",
        "\n",
        "while op != 0:\n",
        "    \n",
        "    print(\"Digite o número da operação desejada \\n 1. Soma \\n 2. Subtração \\n 3. Multiplicação \\n 4. Divisão \\n 0. Sair \\n\")\n",
        "    op = int(input())\n",
        "    \n",
        "    n1 = float(input(\"\\nQual o 1º número? \\n\"))\n",
        "    n2 = float(input(\"Qual o 2º número? \\n\"))\n",
        "\n",
        "    if op == 1:\n",
        "        res = n1+n2\n",
        "    \n",
        "    elif op == 2:\n",
        "        res = n1-n2\n",
        "    \n",
        "    elif op == 3:\n",
        "        res = n1*n2\n",
        "    \n",
        "    elif op == 4:\n",
        "        res = n1/n2\n",
        "        \n",
        "    elif op == 0:\n",
        "        res = str(\"Fim do laço - Você saiu\")\n",
        "    \n",
        "    else: \n",
        "        print(\"Operação inválida. Digitar 1, 2, 3, 4 ou 0\")\n",
        "        res = 0\n",
        "\n",
        "    print(\"\\nResposta = \", res, \"\\n\")"
      ]
    }
  ]
}