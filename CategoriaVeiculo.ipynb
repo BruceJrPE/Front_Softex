{
  "nbformat": 4,
  "nbformat_minor": 0,
  "metadata": {
    "colab": {
      "name": "CategoriaVeiculo.ipynb",
      "provenance": [],
      "authorship_tag": "ABX9TyPwlxwc78X+fCavOq9UaimJ",
      "include_colab_link": true
    },
    "kernelspec": {
      "name": "python3",
      "display_name": "Python 3"
    },
    "language_info": {
      "name": "python"
    }
  },
  "cells": [
    {
      "cell_type": "markdown",
      "metadata": {
        "id": "view-in-github",
        "colab_type": "text"
      },
      "source": [
        "<a href=\"https://colab.research.google.com/github/BruceJrPE/Front_Softex/blob/main/CategoriaVeiculo.ipynb\" target=\"_parent\"><img src=\"https://colab.research.google.com/assets/colab-badge.svg\" alt=\"Open In Colab\"/></a>"
      ]
    },
    {
      "cell_type": "code",
      "execution_count": 7,
      "metadata": {
        "colab": {
          "base_uri": "https://localhost:8080/"
        },
        "id": "jBhYVq8OfqVV",
        "outputId": "cac49c35-213b-48e7-8f64-b655a017e4d7"
      },
      "outputs": [
        {
          "output_type": "stream",
          "name": "stdout",
          "text": [
            "Quantas rodas o veículo possui? 2\n",
            "Qual o peso do veículo? 5000\n",
            "Quantas pessoas o veículo suporta? 8\n",
            "Categoria A\n"
          ]
        }
      ],
      "source": [
        "roda = int(input(\"Quantas rodas o veículo possui? \"))\n",
        "peso = float(input(\"Qual o peso do veículo? \"))\n",
        "pessoas = int(input(\"Quantas pessoas o veículo suporta? \"))\n",
        "\n",
        "if roda <= 3:\n",
        "    print(\"Categoria A\")\n",
        "elif roda == 4 and pessoas <= 8 and peso <= 3500:\n",
        "    print(\"Categoria B\")\n",
        "elif roda >= 4 and peso > 3500 and peso <= 6000:\n",
        "    print(\"Categoria C\")\n",
        "elif roda >= 4 and pessoas > 8:\n",
        "    print(\"Categoria D\")\n",
        "elif roda >= 4 and peso > 6000: \n",
        "    print(\"Categoria E\")"
      ]
    }
  ]
}